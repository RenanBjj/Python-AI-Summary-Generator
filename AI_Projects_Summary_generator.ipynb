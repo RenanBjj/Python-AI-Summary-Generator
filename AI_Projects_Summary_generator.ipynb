{
  "nbformat": 4,
  "nbformat_minor": 0,
  "metadata": {
    "colab": {
      "provenance": []
    },
    "kernelspec": {
      "name": "python3",
      "display_name": "Python 3"
    },
    "language_info": {
      "name": "python"
    }
  },
  "cells": [
    {
      "cell_type": "code",
      "execution_count": null,
      "metadata": {
        "collapsed": true,
        "id": "W0Lw0drO-gjL"
      },
      "outputs": [],
      "source": [
        "# pip install openai pypdf2 pdfplumber"
      ]
    },
    {
      "cell_type": "code",
      "source": [
        "import PyPDF2\n",
        "import os\n",
        "from openai import OpenAI"
      ],
      "metadata": {
        "id": "OVoR8w4rEfHh"
      },
      "execution_count": 7,
      "outputs": []
    },
    {
      "cell_type": "code",
      "source": [
        "client = OpenAI(\n",
        "    api_key='YOUR_API_KEY'\n",
        "    )"
      ],
      "metadata": {
        "id": "NvDbnMPCEP26"
      },
      "execution_count": 8,
      "outputs": []
    },
    {
      "cell_type": "code",
      "source": [
        "# Functions\n",
        "\n",
        "# Function to extract the text from a PDF file\n",
        "def extract_text_from_pdf(pdf_path):\n",
        "    with open(pdf_path, 'rb') as file:\n",
        "        reader = PyPDF2.PdfReader(file)\n",
        "        text = '\\n'.join([page.extract_text() for page in reader.pages if page.extract_text()])\n",
        "    return text\n",
        "\n",
        "# Function to send text to ChatGPT and get the summary\n",
        "def summarize_text(text):\n",
        "  completion = client.chat.completions.create(\n",
        "    model='gpt-4o-mini',\n",
        "    store=True,\n",
        "    messages=[\n",
        "      {'role': 'system', 'content':'Make a summary from this text: '},\n",
        "      {'role': 'user', 'content': text}\n",
        "    ]\n",
        "  )\n",
        "  response = completion.choices[0].message.content.strip()\n",
        "  return response\n",
        "\n",
        "# Function to split the text if necessary\n",
        "def split_text(text, max_length):\n",
        "    parts = []\n",
        "    while len(text) > max_length:\n",
        "        part = text[:max_length]\n",
        "        last_period = part.rfind('.')\n",
        "        if last_period == -1:\n",
        "            last_period = max_length\n",
        "        parts.append(text[:last_period + 1])\n",
        "        text = text[last_period + 1:]\n",
        "    parts.append(text)\n",
        "    return parts"
      ],
      "metadata": {
        "id": "-SwBcyV8__UB"
      },
      "execution_count": 9,
      "outputs": []
    },
    {
      "cell_type": "code",
      "source": [
        "# Path of PDF file\n",
        "pdf_path = '/content/A ARTE DA GUERRA - ok.pdf'\n",
        "\n",
        "# Character limit to send (ChatGPT has a token limit)\n",
        "characters_limit = 470000\n",
        "\n",
        "# Text extration\n",
        "full_text = extract_text_from_pdf(pdf_path)\n",
        "print(f'Extracted text: ({len(full_text)} characters).')\n",
        "\n",
        "# If the text is longer than the limit, we divide it into parts\n",
        "if len(full_text) > characters_limit:\n",
        "    text_parts = split_text(full_text, characters_limit)\n",
        "    summaries = []\n",
        "\n",
        "    print(f'Big text! Divided in {len(text_parts)} parts...')\n",
        "\n",
        "    for i, part in enumerate(text_parts):\n",
        "        print(f'Sending part {i+1}/{len(text_parts)} to OpenAI...')\n",
        "        summary = summarize_text(part)\n",
        "        summaries.append(summary)\n",
        "\n",
        "    # Final summary combining all parts\n",
        "    final_summary = summarize_text('\\n'.join(summaries))\n",
        "\n",
        "else:\n",
        "    print('Sending text to OpenAI...')\n",
        "    final_summary = summarize_text(full_text)\n",
        "\n",
        "# Save the summary in a separated file\n",
        "text_name = pdf_path.split('/')[-1].split('.pdf')[0]\n",
        "with open(f'{text_name}_summary.txt', 'w', encoding='utf-8') as f:\n",
        "    f.write(final_summary)\n",
        "\n",
        "print(f'Summary generated and save in \"{text_name}_summary.txt!\"')"
      ],
      "metadata": {
        "colab": {
          "base_uri": "https://localhost:8080/"
        },
        "id": "Kz2Hprb0R1DD",
        "outputId": "174bc6db-0226-4910-a15f-eb5c83975074"
      },
      "execution_count": 11,
      "outputs": [
        {
          "output_type": "stream",
          "name": "stdout",
          "text": [
            "Extracted text: (88941 characters).\n",
            "Sending text to OpenAI...\n",
            "Summary generated and save in \"A ARTE DA GUERRA - ok_summary.txt!\"\n"
          ]
        }
      ]
    },
    {
      "cell_type": "code",
      "source": [],
      "metadata": {
        "id": "cR4wY4qwHMtQ"
      },
      "execution_count": null,
      "outputs": []
    }
  ]
}